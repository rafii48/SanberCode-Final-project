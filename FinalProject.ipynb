{
 "cells": [
  {
   "cell_type": "markdown",
   "metadata": {},
   "source": [
    "Pada final project ini teman-teman diminta untuk memprediksi gaji seseorang apakah 7jt berdasarkan beberapa keterangan pada kolom-kolom dataset. Buatlah model klasifikasi yang dapat menentukan nilai pada kolom 'Gaji' dengan ketentuan sebagai berikut:\n",
    "\n",
    "0 : Gaji <= 7jt\n",
    "1 : Gaji > 7jt"
   ]
  },
  {
   "cell_type": "markdown",
   "metadata": {},
   "source": [
    "muhammad Rafi\n",
    "muhamadrafi23923@gmail.com"
   ]
  },
  {
   "cell_type": "code",
   "execution_count": 1,
   "metadata": {},
   "outputs": [
    {
     "name": "stderr",
     "output_type": "stream",
     "text": [
      "Using TensorFlow backend.\n"
     ]
    }
   ],
   "source": [
    "import numpy as np\n",
    "import pandas as pd\n",
    "import keras\n",
    "import matplotlib.pyplot as plt\n",
    "import tensorflow as tf\n",
    "import csv\n",
    "from keras.models import Sequential\n",
    "from keras.layers import Conv2D, MaxPooling2D\n",
    "from keras.layers import Dense, Dropout, Activation, Flatten"
   ]
  },
  {
   "cell_type": "code",
   "execution_count": 2,
   "metadata": {},
   "outputs": [
    {
     "data": {
      "text/html": [
       "<div>\n",
       "<style scoped>\n",
       "    .dataframe tbody tr th:only-of-type {\n",
       "        vertical-align: middle;\n",
       "    }\n",
       "\n",
       "    .dataframe tbody tr th {\n",
       "        vertical-align: top;\n",
       "    }\n",
       "\n",
       "    .dataframe thead th {\n",
       "        text-align: right;\n",
       "    }\n",
       "</style>\n",
       "<table border=\"1\" class=\"dataframe\">\n",
       "  <thead>\n",
       "    <tr style=\"text-align: right;\">\n",
       "      <th></th>\n",
       "      <th>id</th>\n",
       "      <th>Umur</th>\n",
       "      <th>Kelas Pekerja</th>\n",
       "      <th>Berat Akhir</th>\n",
       "      <th>Pendidikan</th>\n",
       "      <th>Jmlh Tahun Pendidikan</th>\n",
       "      <th>Status Perkawinan</th>\n",
       "      <th>Pekerjaan</th>\n",
       "      <th>Jenis Kelamin</th>\n",
       "      <th>Keuntungan Kapital</th>\n",
       "      <th>Kerugian Capital</th>\n",
       "      <th>Jam per Minggu</th>\n",
       "      <th>Gaji</th>\n",
       "    </tr>\n",
       "  </thead>\n",
       "  <tbody>\n",
       "    <tr>\n",
       "      <td>0</td>\n",
       "      <td>0</td>\n",
       "      <td>21</td>\n",
       "      <td>Wiraswasta</td>\n",
       "      <td>242912</td>\n",
       "      <td>SMA</td>\n",
       "      <td>9</td>\n",
       "      <td>Belum Pernah Menikah</td>\n",
       "      <td>Servis Lainnya</td>\n",
       "      <td>Perempuan</td>\n",
       "      <td>0.0</td>\n",
       "      <td>0.0</td>\n",
       "      <td>35.0</td>\n",
       "      <td>&lt;=7jt</td>\n",
       "    </tr>\n",
       "    <tr>\n",
       "      <td>1</td>\n",
       "      <td>1</td>\n",
       "      <td>49</td>\n",
       "      <td>Wiraswasta</td>\n",
       "      <td>140782</td>\n",
       "      <td>10th</td>\n",
       "      <td>6</td>\n",
       "      <td>Cerai</td>\n",
       "      <td>Ekesekutif Managerial</td>\n",
       "      <td>Perempuan</td>\n",
       "      <td>0.0</td>\n",
       "      <td>0.0</td>\n",
       "      <td>40.0</td>\n",
       "      <td>&lt;=7jt</td>\n",
       "    </tr>\n",
       "    <tr>\n",
       "      <td>2</td>\n",
       "      <td>2</td>\n",
       "      <td>44</td>\n",
       "      <td>Wiraswasta</td>\n",
       "      <td>120057</td>\n",
       "      <td>D3</td>\n",
       "      <td>12</td>\n",
       "      <td>Menikah</td>\n",
       "      <td>Ekesekutif Managerial</td>\n",
       "      <td>Laki2</td>\n",
       "      <td>61404000.0</td>\n",
       "      <td>0.0</td>\n",
       "      <td>45.0</td>\n",
       "      <td>&gt;7jt</td>\n",
       "    </tr>\n",
       "    <tr>\n",
       "      <td>3</td>\n",
       "      <td>3</td>\n",
       "      <td>24</td>\n",
       "      <td>Wiraswasta</td>\n",
       "      <td>194630</td>\n",
       "      <td>Sarjana</td>\n",
       "      <td>13</td>\n",
       "      <td>Belum Pernah Menikah</td>\n",
       "      <td>Spesialis</td>\n",
       "      <td>Laki2</td>\n",
       "      <td>0.0</td>\n",
       "      <td>0.0</td>\n",
       "      <td>35.0</td>\n",
       "      <td>&lt;=7jt</td>\n",
       "    </tr>\n",
       "    <tr>\n",
       "      <td>4</td>\n",
       "      <td>4</td>\n",
       "      <td>33</td>\n",
       "      <td>Wiraswasta</td>\n",
       "      <td>219619</td>\n",
       "      <td>Master</td>\n",
       "      <td>14</td>\n",
       "      <td>Menikah</td>\n",
       "      <td>Spesialis</td>\n",
       "      <td>Laki2</td>\n",
       "      <td>210336000.0</td>\n",
       "      <td>0.0</td>\n",
       "      <td>40.0</td>\n",
       "      <td>&gt;7jt</td>\n",
       "    </tr>\n",
       "  </tbody>\n",
       "</table>\n",
       "</div>"
      ],
      "text/plain": [
       "   id  Umur Kelas Pekerja  Berat Akhir Pendidikan  Jmlh Tahun Pendidikan  \\\n",
       "0   0    21    Wiraswasta       242912        SMA                      9   \n",
       "1   1    49    Wiraswasta       140782       10th                      6   \n",
       "2   2    44    Wiraswasta       120057         D3                     12   \n",
       "3   3    24    Wiraswasta       194630    Sarjana                     13   \n",
       "4   4    33    Wiraswasta       219619     Master                     14   \n",
       "\n",
       "      Status Perkawinan              Pekerjaan Jenis Kelamin  \\\n",
       "0  Belum Pernah Menikah         Servis Lainnya     Perempuan   \n",
       "1                 Cerai  Ekesekutif Managerial     Perempuan   \n",
       "2               Menikah  Ekesekutif Managerial         Laki2   \n",
       "3  Belum Pernah Menikah              Spesialis         Laki2   \n",
       "4               Menikah              Spesialis         Laki2   \n",
       "\n",
       "   Keuntungan Kapital  Kerugian Capital  Jam per Minggu   Gaji  \n",
       "0                 0.0               0.0            35.0  <=7jt  \n",
       "1                 0.0               0.0            40.0  <=7jt  \n",
       "2          61404000.0               0.0            45.0   >7jt  \n",
       "3                 0.0               0.0            35.0  <=7jt  \n",
       "4         210336000.0               0.0            40.0   >7jt  "
      ]
     },
     "execution_count": 2,
     "metadata": {},
     "output_type": "execute_result"
    }
   ],
   "source": [
    "df = pd.read_csv('train.csv')\n",
    "df.head(5)"
   ]
  },
  {
   "cell_type": "code",
   "execution_count": 3,
   "metadata": {},
   "outputs": [
    {
     "data": {
      "text/plain": [
       "(35994, 13)"
      ]
     },
     "execution_count": 3,
     "metadata": {},
     "output_type": "execute_result"
    }
   ],
   "source": [
    "df.shape"
   ]
  },
  {
   "cell_type": "code",
   "execution_count": 4,
   "metadata": {},
   "outputs": [
    {
     "data": {
      "text/plain": [
       "<=7jt    27364\n",
       ">7jt      8630\n",
       "Name: Gaji, dtype: int64"
      ]
     },
     "execution_count": 4,
     "metadata": {},
     "output_type": "execute_result"
    }
   ],
   "source": [
    "df['Gaji'].value_counts()"
   ]
  },
  {
   "cell_type": "code",
   "execution_count": 5,
   "metadata": {},
   "outputs": [],
   "source": [
    "df['Pekerjaan'] = df['Pekerjaan'].replace(\n",
    "    ['Spesialis','Ekesekutif Managerial','Perbaikan Kerajinan','Pemuka Agama','Sales','Servis Lainnya','Mesin Inspeksi','?','Supir','Pembersih','Petani','Tech-support','Penjaga','Asisten Rumah Tangga','Tentara'],\n",
    "    [1,2,3,4,5,6,7,8,9,10,11,12,13,14,15]\n",
    ")"
   ]
  },
  {
   "cell_type": "code",
   "execution_count": 6,
   "metadata": {},
   "outputs": [
    {
     "data": {
      "text/plain": [
       "1     4587\n",
       "3     4507\n",
       "2     4481\n",
       "4     4158\n",
       "5     4044\n",
       "6     3615\n",
       "7     2250\n",
       "8     2069\n",
       "9     1741\n",
       "10    1540\n",
       "11    1076\n",
       "12    1042\n",
       "13     686\n",
       "14     187\n",
       "15      11\n",
       "Name: Pekerjaan, dtype: int64"
      ]
     },
     "execution_count": 6,
     "metadata": {},
     "output_type": "execute_result"
    }
   ],
   "source": [
    "df['Pekerjaan'].value_counts()"
   ]
  },
  {
   "cell_type": "code",
   "execution_count": 7,
   "metadata": {},
   "outputs": [],
   "source": [
    "df['Pendidikan'] = df['Pendidikan'].replace(\n",
    "    ['SMA','Pendidikan Tinggi', 'Sarjana','Master','D4','11th','D3','10th','7th-8th','Sekolah Professional','9th','12th','Doktor','5th-6th','1st-4th','SD'],\n",
    "    [1,2,3,4,5,6,7,8,9,10,11,12,13,14,15,16]\n",
    ")"
   ]
  },
  {
   "cell_type": "code",
   "execution_count": 8,
   "metadata": {},
   "outputs": [
    {
     "data": {
      "text/plain": [
       "1     11666\n",
       "2      8005\n",
       "3      5928\n",
       "4      1944\n",
       "5      1500\n",
       "6      1315\n",
       "7      1175\n",
       "8      1024\n",
       "9       682\n",
       "10      622\n",
       "11      570\n",
       "12      478\n",
       "13      451\n",
       "14      388\n",
       "15      184\n",
       "16       62\n",
       "Name: Pendidikan, dtype: int64"
      ]
     },
     "execution_count": 8,
     "metadata": {},
     "output_type": "execute_result"
    }
   ],
   "source": [
    "df['Pendidikan'].value_counts()"
   ]
  },
  {
   "cell_type": "code",
   "execution_count": 9,
   "metadata": {},
   "outputs": [],
   "source": [
    "df['Kelas Pekerja'] = df['Kelas Pekerja'].replace(['Wiraswasta','Pekerja Bebas Bukan Perusahan','Pemerintah Lokal','?','Pemerintah Negara','Pekerja Bebas Perusahaan','Pemerintah Provinsi',\n",
    "                             'Tanpa di Bayar','Tidak Pernah Bekerja'],[1,2,3,4,5,6,7,8,9])"
   ]
  },
  {
   "cell_type": "code",
   "execution_count": 10,
   "metadata": {},
   "outputs": [
    {
     "data": {
      "text/plain": [
       "Menikah                 16559\n",
       "Belum Pernah Menikah    11851\n",
       "Cerai                    4857\n",
       "Berpisah                 1133\n",
       "Janda                    1103\n",
       "Menikah LDR               491\n",
       "Name: Status Perkawinan, dtype: int64"
      ]
     },
     "execution_count": 10,
     "metadata": {},
     "output_type": "execute_result"
    }
   ],
   "source": [
    "df['Status Perkawinan'].value_counts()"
   ]
  },
  {
   "cell_type": "code",
   "execution_count": 11,
   "metadata": {},
   "outputs": [],
   "source": [
    "df['Status Perkawinan'] = df['Status Perkawinan'].replace(\n",
    "    ['Menikah','Belum Pernah Menikah','Cerai','Berpisah','Janda','Menikah LDR'],\n",
    "    [1,2,3,4,5,6])"
   ]
  },
  {
   "cell_type": "code",
   "execution_count": 12,
   "metadata": {},
   "outputs": [],
   "source": [
    "df['Jenis Kelamin']=df['Jenis Kelamin'].replace(['Laki2','Perempuan'],[1,0])"
   ]
  },
  {
   "cell_type": "code",
   "execution_count": 13,
   "metadata": {},
   "outputs": [
    {
     "data": {
      "text/html": [
       "<div>\n",
       "<style scoped>\n",
       "    .dataframe tbody tr th:only-of-type {\n",
       "        vertical-align: middle;\n",
       "    }\n",
       "\n",
       "    .dataframe tbody tr th {\n",
       "        vertical-align: top;\n",
       "    }\n",
       "\n",
       "    .dataframe thead th {\n",
       "        text-align: right;\n",
       "    }\n",
       "</style>\n",
       "<table border=\"1\" class=\"dataframe\">\n",
       "  <thead>\n",
       "    <tr style=\"text-align: right;\">\n",
       "      <th></th>\n",
       "      <th>id</th>\n",
       "      <th>Umur</th>\n",
       "      <th>Kelas Pekerja</th>\n",
       "      <th>Berat Akhir</th>\n",
       "      <th>Pendidikan</th>\n",
       "      <th>Jmlh Tahun Pendidikan</th>\n",
       "      <th>Status Perkawinan</th>\n",
       "      <th>Pekerjaan</th>\n",
       "      <th>Jenis Kelamin</th>\n",
       "      <th>Keuntungan Kapital</th>\n",
       "      <th>Kerugian Capital</th>\n",
       "      <th>Jam per Minggu</th>\n",
       "      <th>Gaji</th>\n",
       "    </tr>\n",
       "  </thead>\n",
       "  <tbody>\n",
       "    <tr>\n",
       "      <td>0</td>\n",
       "      <td>0</td>\n",
       "      <td>21</td>\n",
       "      <td>1</td>\n",
       "      <td>242912</td>\n",
       "      <td>1</td>\n",
       "      <td>9</td>\n",
       "      <td>2</td>\n",
       "      <td>6</td>\n",
       "      <td>0</td>\n",
       "      <td>0.0</td>\n",
       "      <td>0.0</td>\n",
       "      <td>35.0</td>\n",
       "      <td>&lt;=7jt</td>\n",
       "    </tr>\n",
       "    <tr>\n",
       "      <td>1</td>\n",
       "      <td>1</td>\n",
       "      <td>49</td>\n",
       "      <td>1</td>\n",
       "      <td>140782</td>\n",
       "      <td>8</td>\n",
       "      <td>6</td>\n",
       "      <td>3</td>\n",
       "      <td>2</td>\n",
       "      <td>0</td>\n",
       "      <td>0.0</td>\n",
       "      <td>0.0</td>\n",
       "      <td>40.0</td>\n",
       "      <td>&lt;=7jt</td>\n",
       "    </tr>\n",
       "    <tr>\n",
       "      <td>2</td>\n",
       "      <td>2</td>\n",
       "      <td>44</td>\n",
       "      <td>1</td>\n",
       "      <td>120057</td>\n",
       "      <td>7</td>\n",
       "      <td>12</td>\n",
       "      <td>1</td>\n",
       "      <td>2</td>\n",
       "      <td>1</td>\n",
       "      <td>61404000.0</td>\n",
       "      <td>0.0</td>\n",
       "      <td>45.0</td>\n",
       "      <td>&gt;7jt</td>\n",
       "    </tr>\n",
       "    <tr>\n",
       "      <td>3</td>\n",
       "      <td>3</td>\n",
       "      <td>24</td>\n",
       "      <td>1</td>\n",
       "      <td>194630</td>\n",
       "      <td>3</td>\n",
       "      <td>13</td>\n",
       "      <td>2</td>\n",
       "      <td>1</td>\n",
       "      <td>1</td>\n",
       "      <td>0.0</td>\n",
       "      <td>0.0</td>\n",
       "      <td>35.0</td>\n",
       "      <td>&lt;=7jt</td>\n",
       "    </tr>\n",
       "    <tr>\n",
       "      <td>4</td>\n",
       "      <td>4</td>\n",
       "      <td>33</td>\n",
       "      <td>1</td>\n",
       "      <td>219619</td>\n",
       "      <td>4</td>\n",
       "      <td>14</td>\n",
       "      <td>1</td>\n",
       "      <td>1</td>\n",
       "      <td>1</td>\n",
       "      <td>210336000.0</td>\n",
       "      <td>0.0</td>\n",
       "      <td>40.0</td>\n",
       "      <td>&gt;7jt</td>\n",
       "    </tr>\n",
       "  </tbody>\n",
       "</table>\n",
       "</div>"
      ],
      "text/plain": [
       "   id  Umur  Kelas Pekerja  Berat Akhir  Pendidikan  Jmlh Tahun Pendidikan  \\\n",
       "0   0    21              1       242912           1                      9   \n",
       "1   1    49              1       140782           8                      6   \n",
       "2   2    44              1       120057           7                     12   \n",
       "3   3    24              1       194630           3                     13   \n",
       "4   4    33              1       219619           4                     14   \n",
       "\n",
       "   Status Perkawinan  Pekerjaan  Jenis Kelamin  Keuntungan Kapital  \\\n",
       "0                  2          6              0                 0.0   \n",
       "1                  3          2              0                 0.0   \n",
       "2                  1          2              1          61404000.0   \n",
       "3                  2          1              1                 0.0   \n",
       "4                  1          1              1         210336000.0   \n",
       "\n",
       "   Kerugian Capital  Jam per Minggu   Gaji  \n",
       "0               0.0            35.0  <=7jt  \n",
       "1               0.0            40.0  <=7jt  \n",
       "2               0.0            45.0   >7jt  \n",
       "3               0.0            35.0  <=7jt  \n",
       "4               0.0            40.0   >7jt  "
      ]
     },
     "execution_count": 13,
     "metadata": {},
     "output_type": "execute_result"
    }
   ],
   "source": [
    "df.head(5)"
   ]
  },
  {
   "cell_type": "code",
   "execution_count": 14,
   "metadata": {},
   "outputs": [],
   "source": [
    "from sklearn.model_selection import train_test_split\n",
    "x = df[['Umur','Kelas Pekerja','Pendidikan','Pekerjaan','Jmlh Tahun Pendidikan','Status Perkawinan','Jenis Kelamin',\n",
    "        'Keuntungan Kapital', 'Kerugian Capital','Jam per Minggu']]\n",
    "y = df['Gaji']\n",
    "x =np.array(x)\n",
    "X_train, X_test, y_train, y_test = train_test_split(x,y, test_size = 0.3, random_state=21, stratify = y)"
   ]
  },
  {
   "cell_type": "code",
   "execution_count": null,
   "metadata": {},
   "outputs": [],
   "source": [
    "y_train = keras.utils.to_categorical(y_train, 2)\n",
    "y_test = keras.utils.to_categorical(y_test,2)"
   ]
  },
  {
   "cell_type": "code",
   "execution_count": 18,
   "metadata": {},
   "outputs": [
    {
     "data": {
      "text/plain": [
       "array([[29.,  1.,  1., ...,  0.,  0., 30.],\n",
       "       [32.,  1.,  1., ...,  0.,  0., 40.],\n",
       "       [52.,  1.,  2., ...,  0.,  0., 40.],\n",
       "       ...,\n",
       "       [36.,  2.,  1., ...,  0.,  0., 35.],\n",
       "       [30.,  1.,  1., ...,  0.,  0., 40.],\n",
       "       [17.,  4.,  8., ...,  0.,  0., 30.]])"
      ]
     },
     "execution_count": 18,
     "metadata": {},
     "output_type": "execute_result"
    }
   ],
   "source": [
    "X_test"
   ]
  },
  {
   "cell_type": "code",
   "execution_count": null,
   "metadata": {},
   "outputs": [],
   "source": []
  },
  {
   "cell_type": "code",
   "execution_count": 19,
   "metadata": {},
   "outputs": [],
   "source": [
    "from keras.models import Sequential\n",
    "from keras.layers import Conv2D, MaxPooling2D\n",
    "from keras.layers import Dense, Dropout, Activation, Flatten\n",
    "import matplotlib.pyplot as plt\n",
    "import tensorflow as tf"
   ]
  },
  {
   "cell_type": "code",
   "execution_count": 23,
   "metadata": {},
   "outputs": [],
   "source": [
    "model = Sequential()\n",
    "model.add(Dense(256, activation='relu'))\n",
    "model.add(Dropout(0.25))\n",
    "model.add(Dense(256, activation='relu'))\n",
    "model.add(Dropout(0.25))\n",
    "model.add(Dense(128, activation='relu'))\n",
    "model.add(Dropout(0.25))\n",
    "model.add(Dense(128, activation='relu'))\n",
    "model.add(Dropout(0.25))\n",
    "model.add(Dense(64, activation='relu'))\n",
    "model.add(Dropout(0.25))\n",
    "model.add(Dense(64, activation='relu'))\n",
    "model.add(Dropout(0.25))\n",
    "model.add(Dense(2, activation=Activation(tf.nn.softmax)))"
   ]
  },
  {
   "cell_type": "code",
   "execution_count": 24,
   "metadata": {},
   "outputs": [],
   "source": [
    "model.compile(loss=keras.losses.categorical_crossentropy,\n",
    "              optimizer=keras.optimizers.Adadelta(), metrics=['accuracy'])"
   ]
  },
  {
   "cell_type": "code",
   "execution_count": null,
   "metadata": {},
   "outputs": [],
   "source": [
    "model.fit(X_train, y_train, \n",
    "          batch_size=28, \n",
    "          epochs=50, \n",
    "          verbose=1,\n",
    "          validation_data=(X_test,y_test))"
   ]
  },
  {
   "cell_type": "code",
   "execution_count": 59,
   "metadata": {},
   "outputs": [
    {
     "data": {
      "text/html": [
       "<div>\n",
       "<style scoped>\n",
       "    .dataframe tbody tr th:only-of-type {\n",
       "        vertical-align: middle;\n",
       "    }\n",
       "\n",
       "    .dataframe tbody tr th {\n",
       "        vertical-align: top;\n",
       "    }\n",
       "\n",
       "    .dataframe thead th {\n",
       "        text-align: right;\n",
       "    }\n",
       "</style>\n",
       "<table border=\"1\" class=\"dataframe\">\n",
       "  <thead>\n",
       "    <tr style=\"text-align: right;\">\n",
       "      <th></th>\n",
       "      <th>id</th>\n",
       "      <th>Umur</th>\n",
       "      <th>Kelas Pekerja</th>\n",
       "      <th>Berat Akhir</th>\n",
       "      <th>Pendidikan</th>\n",
       "      <th>Jmlh Tahun Pendidikan</th>\n",
       "      <th>Status Perkawinan</th>\n",
       "      <th>Pekerjaan</th>\n",
       "      <th>Jenis Kelamin</th>\n",
       "      <th>Keuntungan Kapital</th>\n",
       "      <th>Kerugian Capital</th>\n",
       "      <th>Jam per Minggu</th>\n",
       "    </tr>\n",
       "  </thead>\n",
       "  <tbody>\n",
       "    <tr>\n",
       "      <td>0</td>\n",
       "      <td>35994</td>\n",
       "      <td>30</td>\n",
       "      <td>Pemerintah Lokal</td>\n",
       "      <td>99761</td>\n",
       "      <td>D4</td>\n",
       "      <td>11</td>\n",
       "      <td>Cerai</td>\n",
       "      <td>Pemuka Agama</td>\n",
       "      <td>Perempuan</td>\n",
       "      <td>0.0</td>\n",
       "      <td>0.0</td>\n",
       "      <td>40.0</td>\n",
       "    </tr>\n",
       "    <tr>\n",
       "      <td>1</td>\n",
       "      <td>35995</td>\n",
       "      <td>28</td>\n",
       "      <td>Wiraswasta</td>\n",
       "      <td>202206</td>\n",
       "      <td>SMA</td>\n",
       "      <td>9</td>\n",
       "      <td>Menikah</td>\n",
       "      <td>Mesin Inspeksi</td>\n",
       "      <td>Laki2</td>\n",
       "      <td>0.0</td>\n",
       "      <td>0.0</td>\n",
       "      <td>50.0</td>\n",
       "    </tr>\n",
       "    <tr>\n",
       "      <td>2</td>\n",
       "      <td>35996</td>\n",
       "      <td>34</td>\n",
       "      <td>Pemerintah Provinsi</td>\n",
       "      <td>199934</td>\n",
       "      <td>Pendidikan Tinggi</td>\n",
       "      <td>10</td>\n",
       "      <td>Menikah</td>\n",
       "      <td>Pemuka Agama</td>\n",
       "      <td>Laki2</td>\n",
       "      <td>0.0</td>\n",
       "      <td>0.0</td>\n",
       "      <td>40.0</td>\n",
       "    </tr>\n",
       "    <tr>\n",
       "      <td>3</td>\n",
       "      <td>35997</td>\n",
       "      <td>51</td>\n",
       "      <td>Wiraswasta</td>\n",
       "      <td>373448</td>\n",
       "      <td>Pendidikan Tinggi</td>\n",
       "      <td>10</td>\n",
       "      <td>Menikah</td>\n",
       "      <td>Ekesekutif Managerial</td>\n",
       "      <td>Laki2</td>\n",
       "      <td>0.0</td>\n",
       "      <td>28028000.0</td>\n",
       "      <td>40.0</td>\n",
       "    </tr>\n",
       "    <tr>\n",
       "      <td>4</td>\n",
       "      <td>35998</td>\n",
       "      <td>20</td>\n",
       "      <td>?</td>\n",
       "      <td>144685</td>\n",
       "      <td>Pendidikan Tinggi</td>\n",
       "      <td>10</td>\n",
       "      <td>Belum Pernah Menikah</td>\n",
       "      <td>?</td>\n",
       "      <td>Perempuan</td>\n",
       "      <td>0.0</td>\n",
       "      <td>22428000.0</td>\n",
       "      <td>40.0</td>\n",
       "    </tr>\n",
       "  </tbody>\n",
       "</table>\n",
       "</div>"
      ],
      "text/plain": [
       "      id  Umur        Kelas Pekerja  Berat Akhir         Pendidikan  \\\n",
       "0  35994    30     Pemerintah Lokal        99761                 D4   \n",
       "1  35995    28           Wiraswasta       202206                SMA   \n",
       "2  35996    34  Pemerintah Provinsi       199934  Pendidikan Tinggi   \n",
       "3  35997    51           Wiraswasta       373448  Pendidikan Tinggi   \n",
       "4  35998    20                    ?       144685  Pendidikan Tinggi   \n",
       "\n",
       "   Jmlh Tahun Pendidikan     Status Perkawinan              Pekerjaan  \\\n",
       "0                     11                 Cerai           Pemuka Agama   \n",
       "1                      9               Menikah         Mesin Inspeksi   \n",
       "2                     10               Menikah           Pemuka Agama   \n",
       "3                     10               Menikah  Ekesekutif Managerial   \n",
       "4                     10  Belum Pernah Menikah                      ?   \n",
       "\n",
       "  Jenis Kelamin  Keuntungan Kapital  Kerugian Capital  Jam per Minggu  \n",
       "0     Perempuan                 0.0               0.0            40.0  \n",
       "1         Laki2                 0.0               0.0            50.0  \n",
       "2         Laki2                 0.0               0.0            40.0  \n",
       "3         Laki2                 0.0        28028000.0            40.0  \n",
       "4     Perempuan                 0.0        22428000.0            40.0  "
      ]
     },
     "execution_count": 59,
     "metadata": {},
     "output_type": "execute_result"
    }
   ],
   "source": [
    "dftrain = pd.read_csv('test.csv')\n",
    "dftrain.head()"
   ]
  },
  {
   "cell_type": "code",
   "execution_count": 60,
   "metadata": {},
   "outputs": [
    {
     "data": {
      "text/plain": [
       "SMA                     3090\n",
       "Pendidikan Tinggi       2176\n",
       "Sarjana                 1564\n",
       "Master                   509\n",
       "D4                       417\n",
       "11th                     379\n",
       "D3                       312\n",
       "10th                     271\n",
       "7th-8th                  214\n",
       "Sekolah Professional     152\n",
       "9th                      138\n",
       "12th                     125\n",
       "Doktor                   104\n",
       "5th-6th                   86\n",
       "1st-4th                   47\n",
       "SD                        15\n",
       "Name: Pendidikan, dtype: int64"
      ]
     },
     "execution_count": 60,
     "metadata": {},
     "output_type": "execute_result"
    }
   ],
   "source": [
    "dftrain['Pendidikan'].value_counts()"
   ]
  },
  {
   "cell_type": "code",
   "execution_count": 61,
   "metadata": {},
   "outputs": [],
   "source": [
    "dftrain['Pendidikan'] = dftrain['Pendidikan'].replace(\n",
    "    ['SMA','Pendidikan Tinggi', 'Sarjana','Master','D4','11th','D3','10th','7th-8th','Sekolah Professional','9th','12th','Doktor','5th-6th','1st-4th','SD'],\n",
    "    [1,2,3,4,5,6,7,8,9,10,11,12,13,14,15,16]\n",
    ")"
   ]
  },
  {
   "cell_type": "code",
   "execution_count": 62,
   "metadata": {},
   "outputs": [],
   "source": [
    "dftrain['Kelas Pekerja'] = dftrain['Kelas Pekerja'].replace(['Wiraswasta','Pekerja Bebas Bukan Perusahan','Pemerintah Lokal','?','Pemerintah Negara','Pekerja Bebas Perusahaan','Pemerintah Provinsi',\n",
    "                             'Tanpa di Bayar','Tidak Pernah Bekerja'],[1,2,3,4,5,6,7,8,9])"
   ]
  },
  {
   "cell_type": "code",
   "execution_count": 63,
   "metadata": {},
   "outputs": [],
   "source": [
    "dftrain['Pekerjaan'] = dftrain['Pekerjaan'].replace(\n",
    "    ['Spesialis','Ekesekutif Managerial','Perbaikan Kerajinan','Pemuka Agama','Sales','Servis Lainnya','Mesin Inspeksi','?','Supir','Pembersih','Petani','Tech-support','Penjaga','Asisten Rumah Tangga','Tentara'],\n",
    "    [1,2,3,4,5,6,7,8,9,10,11,12,13,14,15]\n",
    ")"
   ]
  },
  {
   "cell_type": "code",
   "execution_count": 64,
   "metadata": {},
   "outputs": [],
   "source": [
    "dftrain['Status Perkawinan'] = dftrain['Status Perkawinan'].replace(\n",
    "    ['Menikah','Belum Pernah Menikah','Cerai','Berpisah','Janda','Menikah LDR'],\n",
    "    [1,2,3,4,5,6])"
   ]
  },
  {
   "cell_type": "code",
   "execution_count": 65,
   "metadata": {},
   "outputs": [],
   "source": [
    "dftrain['Jenis Kelamin']=dftrain['Jenis Kelamin'].replace(['Laki2','Perempuan'],[1,0])"
   ]
  },
  {
   "cell_type": "code",
   "execution_count": 66,
   "metadata": {},
   "outputs": [
    {
     "data": {
      "text/plain": [
       "array([[0.7961789 , 0.20382115],\n",
       "       [0.82485896, 0.17514105],\n",
       "       [0.82366127, 0.17633879],\n",
       "       ...,\n",
       "       [0.7433022 , 0.25669768],\n",
       "       [0.85668325, 0.14331673],\n",
       "       [0.8841898 , 0.11581027]], dtype=float32)"
      ]
     },
     "execution_count": 66,
     "metadata": {},
     "output_type": "execute_result"
    }
   ],
   "source": [
    "predictor = ['Umur','Kelas Pekerja','Pendidikan','Pekerjaan','Jmlh Tahun Pendidikan',\n",
    "                'Status Perkawinan','Jenis Kelamin','Keuntungan Kapital', 'Kerugian Capital','Jam per Minggu']\n",
    "hasilprediksi = model.predict(dftrain[predictor])\n",
    "hasilprediksi"
   ]
  },
  {
   "cell_type": "code",
   "execution_count": 67,
   "metadata": {},
   "outputs": [],
   "source": [
    "def uji(xd):\n",
    "  a_max = xd.max()\n",
    "  mylist = xd\n",
    "  for i in range(len(mylist)):\n",
    "    if mylist[i] == a_max:\n",
    "      break\n",
    "  return i"
   ]
  },
  {
   "cell_type": "code",
   "execution_count": 105,
   "metadata": {},
   "outputs": [
    {
     "data": {
      "text/plain": [
       "1"
      ]
     },
     "execution_count": 105,
     "metadata": {},
     "output_type": "execute_result"
    }
   ],
   "source": [
    "ok = hasilprediksi[(98)]\n",
    "ok\n",
    "uji(ok)"
   ]
  },
  {
   "cell_type": "code",
   "execution_count": 106,
   "metadata": {},
   "outputs": [],
   "source": [
    "ha=[]\n",
    "for x in range(len(hasilprediksi)):\n",
    "  ha.append(uji(hasilprediksi[x]))"
   ]
  },
  {
   "cell_type": "code",
   "execution_count": 112,
   "metadata": {},
   "outputs": [],
   "source": [
    "submit =pd.DataFrame({\n",
    "    'Id':dftest['id'],\n",
    "    'Gaji':ha\n",
    "})\n",
    "submit.to_csv('submit.csv', index=False)"
   ]
  },
  {
   "cell_type": "code",
   "execution_count": 3,
   "metadata": {},
   "outputs": [
    {
     "data": {
      "text/html": [
       "<div>\n",
       "<style scoped>\n",
       "    .dataframe tbody tr th:only-of-type {\n",
       "        vertical-align: middle;\n",
       "    }\n",
       "\n",
       "    .dataframe tbody tr th {\n",
       "        vertical-align: top;\n",
       "    }\n",
       "\n",
       "    .dataframe thead th {\n",
       "        text-align: right;\n",
       "    }\n",
       "</style>\n",
       "<table border=\"1\" class=\"dataframe\">\n",
       "  <thead>\n",
       "    <tr style=\"text-align: right;\">\n",
       "      <th></th>\n",
       "      <th>Id</th>\n",
       "      <th>Gaji</th>\n",
       "    </tr>\n",
       "  </thead>\n",
       "  <tbody>\n",
       "    <tr>\n",
       "      <td>0</td>\n",
       "      <td>35994</td>\n",
       "      <td>0</td>\n",
       "    </tr>\n",
       "    <tr>\n",
       "      <td>1</td>\n",
       "      <td>35995</td>\n",
       "      <td>0</td>\n",
       "    </tr>\n",
       "    <tr>\n",
       "      <td>2</td>\n",
       "      <td>35996</td>\n",
       "      <td>0</td>\n",
       "    </tr>\n",
       "    <tr>\n",
       "      <td>3</td>\n",
       "      <td>35997</td>\n",
       "      <td>0</td>\n",
       "    </tr>\n",
       "    <tr>\n",
       "      <td>4</td>\n",
       "      <td>35998</td>\n",
       "      <td>0</td>\n",
       "    </tr>\n",
       "  </tbody>\n",
       "</table>\n",
       "</div>"
      ],
      "text/plain": [
       "      Id  Gaji\n",
       "0  35994     0\n",
       "1  35995     0\n",
       "2  35996     0\n",
       "3  35997     0\n",
       "4  35998     0"
      ]
     },
     "execution_count": 3,
     "metadata": {},
     "output_type": "execute_result"
    }
   ],
   "source": [
    "df = pd.read_csv('submit.csv')\n",
    "df.head()"
   ]
  },
  {
   "cell_type": "code",
   "execution_count": null,
   "metadata": {},
   "outputs": [],
   "source": []
  }
 ],
 "metadata": {
  "kernelspec": {
   "display_name": "Python 3",
   "language": "python",
   "name": "python3"
  },
  "language_info": {
   "codemirror_mode": {
    "name": "ipython",
    "version": 3
   },
   "file_extension": ".py",
   "mimetype": "text/x-python",
   "name": "python",
   "nbconvert_exporter": "python",
   "pygments_lexer": "ipython3",
   "version": "3.7.4"
  }
 },
 "nbformat": 4,
 "nbformat_minor": 2
}
